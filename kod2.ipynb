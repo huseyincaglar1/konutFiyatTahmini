{
 "cells": [
  {
   "cell_type": "code",
   "execution_count": 49,
   "id": "8eb642f6-97b0-4911-b845-bd31b3a5b447",
   "metadata": {},
   "outputs": [
    {
     "name": "stdout",
     "output_type": "stream",
     "text": [
      "Sütun: LotFrontage - Veri Tipi: float64 - Benzersiz Etiketler: [ 65.  80.  68.  60.  84.  85.  75.  nan  51.  50.  70.  91.  72.  66.\n",
      " 101.  57.  44. 110.  98.  47. 108. 112.  74. 115.  61.  48.  33.  52.\n",
      " 100.  24.  89.  63.  76.  81.  95.  69.  21.  32.  78. 121. 122.  40.\n",
      " 105.  73.  77.  64.  94.  34.  90.  55.  88.  82.  71. 120. 107.  92.\n",
      " 134.  62.  86. 141.  97.  54.  41.  79. 174.  99.  67.  83.  43. 103.\n",
      "  93.  30. 129. 140.  35.  37. 118.  87. 116. 150. 111.  49.  96.  59.\n",
      "  36.  56. 102.  58.  38. 109. 130.  53. 137.  45. 106. 104.  42.  39.\n",
      " 144. 114. 128. 149. 313. 168. 182. 138. 160. 152. 124. 153.  46.]\n",
      "\n",
      "Sütun: LotArea - Veri Tipi: int64 - Benzersiz Etiketler: [ 8450  9600 11250 ... 17217 13175  9717]\n",
      "\n",
      "Sütun: OverallQual - Veri Tipi: int64 - Benzersiz Etiketler: [ 7  6  8  5  9  4 10  3  1  2]\n",
      "\n",
      "Sütun: OverallCond - Veri Tipi: int64 - Benzersiz Etiketler: [5 8 6 7 4 2 3 9 1]\n",
      "\n",
      "Sütun: YearBuilt - Veri Tipi: int64 - Benzersiz Etiketler: [2003 1976 2001 1915 2000 1993 2004 1973 1931 1939 1965 2005 1962 2006\n",
      " 1960 1929 1970 1967 1958 1930 2002 1968 2007 1951 1957 1927 1920 1966\n",
      " 1959 1994 1954 1953 1955 1983 1975 1997 1934 1963 1981 1964 1999 1972\n",
      " 1921 1945 1982 1998 1956 1948 1910 1995 1991 2009 1950 1961 1977 1985\n",
      " 1979 1885 1919 1990 1969 1935 1988 1971 1952 1936 1923 1924 1984 1926\n",
      " 1940 1941 1987 1986 2008 1908 1892 1916 1932 1918 1912 1947 1925 1900\n",
      " 1980 1989 1992 1949 1880 1928 1978 1922 1996 2010 1946 1913 1937 1942\n",
      " 1938 1974 1893 1914 1906 1890 1898 1904 1882 1875 1911 1917 1872 1905]\n",
      "\n",
      "Sütun: YearRemodAdd - Veri Tipi: int64 - Benzersiz Etiketler: [2003 1976 2002 1970 2000 1995 2005 1973 1950 1965 2006 1962 2007 1960\n",
      " 2001 1967 2004 2008 1997 1959 1990 1955 1983 1980 1966 1963 1987 1964\n",
      " 1972 1996 1998 1989 1953 1956 1968 1981 1992 2009 1982 1961 1993 1999\n",
      " 1985 1979 1977 1969 1958 1991 1971 1952 1975 2010 1984 1986 1994 1988\n",
      " 1954 1957 1951 1978 1974]\n",
      "\n",
      "Sütun: MSZoning - Veri Tipi: object - Benzersiz Etiketler: ['RL' 'RM' 'C (all)' 'FV' 'RH']\n",
      "\n",
      "Sütun: Street - Veri Tipi: object - Benzersiz Etiketler: ['Pave' 'Grvl']\n",
      "\n",
      "Sütun: LotShape - Veri Tipi: object - Benzersiz Etiketler: ['Reg' 'IR1' 'IR2' 'IR3']\n",
      "\n",
      "Sütun: LandContour - Veri Tipi: object - Benzersiz Etiketler: ['Lvl' 'Bnk' 'Low' 'HLS']\n",
      "\n",
      "Sütun: Utilities - Veri Tipi: object - Benzersiz Etiketler: ['AllPub' 'NoSeWa']\n",
      "\n",
      "Sütun: LotConfig - Veri Tipi: object - Benzersiz Etiketler: ['Inside' 'FR2' 'Corner' 'CulDSac' 'FR3']\n",
      "\n",
      "Sütun: LandSlope - Veri Tipi: object - Benzersiz Etiketler: ['Gtl' 'Mod' 'Sev']\n",
      "\n",
      "Sütun: Neighborhood - Veri Tipi: object - Benzersiz Etiketler: ['CollgCr' 'Veenker' 'Crawfor' 'NoRidge' 'Mitchel' 'Somerst' 'NWAmes'\n",
      " 'OldTown' 'BrkSide' 'Sawyer' 'NridgHt' 'NAmes' 'SawyerW' 'IDOTRR'\n",
      " 'MeadowV' 'Edwards' 'Timber' 'Gilbert' 'StoneBr' 'ClearCr' 'NPkVill'\n",
      " 'Blmngtn' 'BrDale' 'SWISU' 'Blueste']\n",
      "\n",
      "Sütun: Condition1 - Veri Tipi: object - Benzersiz Etiketler: ['Norm' 'Feedr' 'PosN' 'Artery' 'RRAe' 'RRNn' 'RRAn' 'PosA' 'RRNe']\n",
      "\n",
      "Sütun: Condition2 - Veri Tipi: object - Benzersiz Etiketler: ['Norm' 'Artery' 'RRNn' 'Feedr' 'PosN' 'PosA' 'RRAn' 'RRAe']\n",
      "\n",
      "Sütun: BldgType - Veri Tipi: object - Benzersiz Etiketler: ['1Fam' '2fmCon' 'Duplex' 'TwnhsE' 'Twnhs']\n",
      "\n",
      "Sütun: HouseStyle - Veri Tipi: object - Benzersiz Etiketler: ['2Story' '1Story' '1.5Fin' '1.5Unf' 'SFoyer' 'SLvl' '2.5Unf' '2.5Fin']\n",
      "\n"
     ]
    }
   ],
   "source": [
    "import pandas as pd\n",
    "\n",
    "\n",
    "data = pd.read_csv('house-prices-advanced-regression-techniques/train.csv') \n",
    "\n",
    "# sütunlar\n",
    "input_features = [\n",
    "    \"LotFrontage\", \"LotArea\", \"OverallQual\", \"OverallCond\", \"YearBuilt\", \n",
    "    \"YearRemodAdd\", \"MSZoning\", \"Street\", \"LotShape\", \"LandContour\", \n",
    "    \"Utilities\", \"LotConfig\", \"LandSlope\", \"Neighborhood\", \"Condition1\", \n",
    "    \"Condition2\", \"BldgType\", \"HouseStyle\"\n",
    "]\n",
    "\n",
    "# Her bir sütun için  etiketleri ve veri tipleri\n",
    "for feature in input_features:\n",
    "    unique_values = data[feature].unique()  # Sütundaki benzersiz değerler\n",
    "    dtype = data[feature].dtype  # Sütunun veri tipi\n",
    "    print(f\"Sütun: {feature} - Veri Tipi: {dtype} - Benzersiz Etiketler: {unique_values}\\n\")\n"
   ]
  },
  {
   "cell_type": "code",
   "execution_count": null,
   "id": "3ee44fce-56b7-4d77-b810-77a14630a7ee",
   "metadata": {},
   "outputs": [],
   "source": []
  }
 ],
 "metadata": {
  "kernelspec": {
   "display_name": "Python 3 (ipykernel)",
   "language": "python",
   "name": "python3"
  },
  "language_info": {
   "codemirror_mode": {
    "name": "ipython",
    "version": 3
   },
   "file_extension": ".py",
   "mimetype": "text/x-python",
   "name": "python",
   "nbconvert_exporter": "python",
   "pygments_lexer": "ipython3",
   "version": "3.12.7"
  }
 },
 "nbformat": 4,
 "nbformat_minor": 5
}
