{
 "cells": [
  {
   "cell_type": "code",
   "execution_count": 126,
   "id": "2afcf54b-1173-4173-b5d2-a764fb10d7d5",
   "metadata": {},
   "outputs": [
    {
     "name": "stdout",
     "output_type": "stream",
     "text": [
      "R^2 Score: 0.8420727672881064\n"
     ]
    }
   ],
   "source": [
    "import pandas as pd\n",
    "from sklearn.model_selection import train_test_split\n",
    "from sklearn.ensemble import GradientBoostingRegressor\n",
    "from sklearn.compose import ColumnTransformer\n",
    "from sklearn.preprocessing import StandardScaler, OneHotEncoder\n",
    "from sklearn.impute import SimpleImputer\n",
    "from sklearn.pipeline import Pipeline\n",
    "from sklearn.metrics import  r2_score\n",
    "\n",
    "# Veri yükleme\n",
    "df = pd.read_csv('house-prices-advanced-regression-techniques/train.csv')\n",
    "\n",
    "# Kullanılmayan sütunları belirleme \n",
    "unused_columns = ['Id']  \n",
    "df = df.drop(columns=unused_columns)\n",
    "\n",
    "# Kategorik ve sayısal sütunları ayırma\n",
    "numeric_features = ['LotFrontage', 'LotArea', 'OverallQual', 'OverallCond', 'YearBuilt', 'YearRemodAdd']\n",
    "categorical_features = ['MSZoning', 'Street', 'LotShape', 'LandContour', 'Utilities', 'LotConfig', 'LandSlope', 'Neighborhood', 'Condition1', 'Condition2', 'BldgType', 'HouseStyle']\n",
    "\n",
    "# Ön işleme adımı\n",
    "preprocessor = ColumnTransformer(\n",
    "    transformers=[\n",
    "        ('num', Pipeline(steps=[\n",
    "            ('imputer', SimpleImputer(strategy='mean')),  # Eksik sayısal verileri ortalama ile doldurma\n",
    "            ('scaler', StandardScaler())  # Sayısal verileri standardize etme\n",
    "        ]), numeric_features),\n",
    "        ('cat', Pipeline(steps=[\n",
    "            ('imputer', SimpleImputer(strategy='most_frequent')),  # Eksik kategorik verileri mod ile doldurma\n",
    "            ('onehot', OneHotEncoder(handle_unknown='ignore'))  # Kategorik verileri encode etme\n",
    "        ]), categorical_features)\n",
    "    ])\n",
    "\n",
    "# Modeli pipeline içine yerleştirme\n",
    "model = Pipeline(steps=[\n",
    "    ('preprocessor', preprocessor),  # Ön işleme adımını ekleme\n",
    "    ('regressor', GradientBoostingRegressor(n_estimators=1000, random_state=42))  # Modeli ekleme\n",
    "])\n",
    "\n",
    "# Bağımsız (X) ve bağımlı (y) değişkenleri ayırma\n",
    "X = df.drop('SalePrice', axis=1)  # 'SalePrice' haricindeki tüm sütunlar X\n",
    "y = df['SalePrice']  # 'SalePrice', y\n",
    "\n",
    "# Eğitim ve test setlerini ayırma\n",
    "X_train, X_test, y_train, y_test = train_test_split(X, y, test_size=0.2, random_state=42)\n",
    "\n",
    "# Model eğitimi\n",
    "model.fit(X_train, y_train)\n",
    "\n",
    "# Test seti üzerinde tahmin yapma\n",
    "predictions = model.predict(X_test)\n",
    "\n",
    "# Modelin başarımı\n",
    "r2 = r2_score(y_test, predictions)\n",
    "\n",
    "\n",
    "print(f'R^2 Score: {r2}')\n",
    "\n"
   ]
  },
  {
   "cell_type": "code",
   "execution_count": 122,
   "id": "994b6caa-8edb-4f4a-8f73-0ce1f2f13590",
   "metadata": {},
   "outputs": [
    {
     "name": "stdout",
     "output_type": "stream",
     "text": [
      "Yeni Veriler İçin Tahminler: [246728.]\n"
     ]
    }
   ],
   "source": [
    "new_data = {\n",
    "    'LotFrontage': [80],  # Örnek veriler\n",
    "    'LotArea': [10000],\n",
    "    'OverallQual': [7],\n",
    "    'OverallCond': [5],\n",
    "    'YearBuilt': [1995],\n",
    "    'YearRemodAdd': [2015],\n",
    "    'MSZoning': ['RL'],\n",
    "    'Street': ['Pave'],\n",
    "    'LotShape': ['Reg'],\n",
    "    'LandContour': ['Lvl'],\n",
    "    'Utilities': ['AllPub'],\n",
    "    'LotConfig': ['Inside'],\n",
    "    'LandSlope': ['Gtl'],\n",
    "    'Neighborhood': ['CollgCr'],\n",
    "    'Condition1': ['Norm'],\n",
    "    'Condition2': ['Norm'],\n",
    "    'BldgType': ['1Fam'],\n",
    "    'HouseStyle': ['2Story']\n",
    "}\n",
    "\n",
    "# Yeni veriyi DataFrame olarak oluşturma\n",
    "X_new = pd.DataFrame(new_data)\n",
    "\n",
    "# Yeni verilerle tahmin yapma\n",
    "new_predictions = model.predict(X_new)\n",
    "\n",
    "# Tahminleri tam sayıya yuvarlama\n",
    "new_predictions_rounded = new_predictions.round()\n",
    "\n",
    "print(\"Yeni Veriler İçin Tahminler:\", new_predictions_rounded)\n"
   ]
  },
  {
   "cell_type": "code",
   "execution_count": 118,
   "id": "a41d966b-07d2-49a6-8ee8-7ff6c8f952ac",
   "metadata": {},
   "outputs": [],
   "source": [
    "import pickle\n",
    "\n",
    "# Modeli kaydetme\n",
    "with open('model.pkl', 'wb') as f:\n",
    "    pickle.dump(model, f)\n"
   ]
  },
  {
   "cell_type": "code",
   "execution_count": null,
   "id": "e368ade2-d7ce-4d86-b81c-fd84c9fc1da6",
   "metadata": {},
   "outputs": [],
   "source": []
  }
 ],
 "metadata": {
  "kernelspec": {
   "display_name": "Python 3 (ipykernel)",
   "language": "python",
   "name": "python3"
  },
  "language_info": {
   "codemirror_mode": {
    "name": "ipython",
    "version": 3
   },
   "file_extension": ".py",
   "mimetype": "text/x-python",
   "name": "python",
   "nbconvert_exporter": "python",
   "pygments_lexer": "ipython3",
   "version": "3.12.7"
  }
 },
 "nbformat": 4,
 "nbformat_minor": 5
}
